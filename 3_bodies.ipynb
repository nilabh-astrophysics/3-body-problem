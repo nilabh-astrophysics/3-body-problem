{
 "cells": [
  {
   "cell_type": "code",
   "execution_count": 1,
   "metadata": {},
   "outputs": [
    {
     "data": {
      "text/html": [
       "<div id=\"glowscript\" class=\"glowscript\"></div>"
      ],
      "text/plain": [
       "<IPython.core.display.HTML object>"
      ]
     },
     "metadata": {},
     "output_type": "display_data"
    },
    {
     "data": {
      "application/javascript": [
       "if (typeof Jupyter !== \"undefined\") { window.__context = { glowscript_container: $(\"#glowscript\").removeAttr(\"id\")};}else{ element.textContent = ' ';}"
      ],
      "text/plain": [
       "<IPython.core.display.Javascript object>"
      ]
     },
     "metadata": {},
     "output_type": "display_data"
    },
    {
     "data": {
      "application/javascript": [
       "if (typeof Jupyter !== \"undefined\") {require.undef(\"nbextensions/vpython_libraries/glow.min\");}else{element.textContent = ' ';}"
      ],
      "text/plain": [
       "<IPython.core.display.Javascript object>"
      ]
     },
     "metadata": {},
     "output_type": "display_data"
    },
    {
     "data": {
      "application/javascript": [
       "if (typeof Jupyter !== \"undefined\") {require.undef(\"nbextensions/vpython_libraries/glowcomm\");}else{element.textContent = ' ';}"
      ],
      "text/plain": [
       "<IPython.core.display.Javascript object>"
      ]
     },
     "metadata": {},
     "output_type": "display_data"
    },
    {
     "data": {
      "application/javascript": [
       "if (typeof Jupyter !== \"undefined\") {require.undef(\"nbextensions/vpython_libraries/jquery-ui.custom.min\");}else{element.textContent = ' ';}"
      ],
      "text/plain": [
       "<IPython.core.display.Javascript object>"
      ]
     },
     "metadata": {},
     "output_type": "display_data"
    },
    {
     "data": {
      "application/javascript": [
       "if (typeof Jupyter !== \"undefined\") {require([\"nbextensions/vpython_libraries/glow.min\"], function(){console.log(\"GLOW LOADED\");});}else{element.textContent = ' ';}"
      ],
      "text/plain": [
       "<IPython.core.display.Javascript object>"
      ]
     },
     "metadata": {},
     "output_type": "display_data"
    },
    {
     "data": {
      "application/javascript": [
       "if (typeof Jupyter !== \"undefined\") {require([\"nbextensions/vpython_libraries/glowcomm\"], function(){console.log(\"GLOWCOMM LOADED\");});}else{element.textContent = ' ';}"
      ],
      "text/plain": [
       "<IPython.core.display.Javascript object>"
      ]
     },
     "metadata": {},
     "output_type": "display_data"
    },
    {
     "data": {
      "application/javascript": [
       "if (typeof Jupyter !== \"undefined\") {require([\"nbextensions/vpython_libraries/jquery-ui.custom.min\"], function(){console.log(\"JQUERY LOADED\");});}else{element.textContent = ' ';}"
      ],
      "text/plain": [
       "<IPython.core.display.Javascript object>"
      ]
     },
     "metadata": {},
     "output_type": "display_data"
    }
   ],
   "source": [
    "import vpython as v\n",
    "\n",
    "body1 = v.sphere(pos=v.vector(-3, 0, 0), radius=0.1, m=1, v=v.vector(0, 2, 0), color=v.color.red)\n",
    "body2 = v.sphere(pos=v.vector(3, 0, 0), radius=0.1, m=1, v=v.vector(0, -2, 0), color=v.color.blue)\n",
    "body3 = v.sphere(pos=v.vector(10, 0, 0), radius=0.1, m=0.001, v=v.vector(0, 0, 0), color=v.color.green)\n",
    "\n",
    "v.attach_trail(body1)\n",
    "v.attach_trail(body2)\n",
    "v.attach_trail(body3)\n",
    "\n",
    "# Defining the momenta\n",
    "body1.p = body1.v * body1.m\n",
    "body2.p = body2.v * body2.m\n",
    "body3.p = body3.v * body3.m\n",
    "\n",
    "t=0\n",
    "dt = 0.0001\n",
    "G = 100\n",
    "\n",
    "while t < 50:\n",
    "    v.rate(1000)\n",
    "\n",
    "    r12 = body2.pos - body1.pos\n",
    "    r13 = body3.pos - body1.pos\n",
    "    r23 = body3.pos - body2.pos\n",
    "\n",
    "\n",
    "    # Finding the force between the two bodies\n",
    "    F12 = G * body1.m * body2.m * v.norm(r12) / r12.mag2\n",
    "    F13 = G * body1.m * body3.m * v.norm(r12) / r13.mag2\n",
    "    F23 = G * body2.m * body3.m * v.norm(r23) / r23.mag2\n",
    "\n",
    "\n",
    "    # Updating the momenta\n",
    "    body1.p += F12 * dt + F13*dt\n",
    "    body2.p += -F12 * dt + F23*dt\n",
    "    body3.p += -F13 * dt + -F23*dt\n",
    "\n",
    "    # Updating the positions\n",
    "    body1.pos += body1.p * dt / body1.m\n",
    "    body2.pos += body2.p * dt / body2.m\n",
    "    body3.pos += body3.p * dt / body3.m\n",
    "\n",
    "\n",
    "    t += dt\n"
   ]
  },
  {
   "cell_type": "code",
   "execution_count": null,
   "metadata": {},
   "outputs": [],
   "source": []
  }
 ],
 "metadata": {
  "kernelspec": {
   "display_name": "Python 2",
   "language": "python",
   "name": "python2"
  },
  "language_info": {
   "codemirror_mode": {
    "name": "ipython",
    "version": 2
   },
   "file_extension": ".py",
   "mimetype": "text/x-python",
   "name": "python",
   "nbconvert_exporter": "python",
   "pygments_lexer": "ipython2",
   "version": "2.7.16"
  }
 },
 "nbformat": 4,
 "nbformat_minor": 4
}
